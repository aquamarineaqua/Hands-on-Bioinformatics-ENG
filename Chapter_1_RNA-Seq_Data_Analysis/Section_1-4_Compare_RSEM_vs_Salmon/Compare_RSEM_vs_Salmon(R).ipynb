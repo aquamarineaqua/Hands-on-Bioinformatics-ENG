{
 "cells": [
  {
   "cell_type": "markdown",
   "metadata": {},
   "source": [
    "**Chapter 1** RNA-Seq Data Processing and Analysis: Alignment, Quality Control, and Quantification\n",
    "\n",
    "**Section 1-4** Compare RSEM vs Salmon\n",
    "\n",
    "Adapted from *STAT 115 2021 Homework 1 Problem 6*\n",
    "\n",
    "---\n",
    "\n",
    "We have completed RNA-Seq quantification using two different algorithms: `RSEM` and `Salmon`. In the previous section, we compared their computation speeds, where Salmon (**3** seconds) was significantly faster than RSEM (**32** seconds).\n",
    "\n",
    "In this section, we compare the differences in quantification results between the two methods. Our analysis focuses on the following key metrics: **effective length**, **normalized read counts**, **TPM**, and **FPKM**, to evaluate the differences in their quantification outputs."
   ]
  },
  {
   "cell_type": "markdown",
   "metadata": {},
   "source": [
    "## 1 Data Preprocessing\n",
    "\n",
    "We now focus on the following key metrics in RSEM and Salmon: **Effective Length**, **Normalized Read Count**, **TPM**, and **FPKM**.\n",
    "\n",
    "First, we copy the RSEM result file `RSEMOut.isoforms.results` and the Salmon result file `quant.sf`, then open them using R."
   ]
  },
  {
   "cell_type": "code",
   "execution_count": 1,
   "metadata": {
    "vscode": {
     "languageId": "r"
    }
   },
   "outputs": [
    {
     "name": "stderr",
     "output_type": "stream",
     "text": [
      "\n",
      "Attaching package: 'dplyr'\n",
      "\n",
      "\n",
      "The following objects are masked from 'package:stats':\n",
      "\n",
      "    filter, lag\n",
      "\n",
      "\n",
      "The following objects are masked from 'package:base':\n",
      "\n",
      "    intersect, setdiff, setequal, union\n",
      "\n",
      "\n"
     ]
    }
   ],
   "source": [
    "library(dplyr)\n",
    "library(ggplot2)"
   ]
  },
  {
   "cell_type": "code",
   "execution_count": 2,
   "metadata": {
    "vscode": {
     "languageId": "r"
    }
   },
   "outputs": [
    {
     "data": {
      "text/html": [
       "<table class=\"dataframe\">\n",
       "<caption>A data.frame: 6 × 8</caption>\n",
       "<thead>\n",
       "\t<tr><th></th><th scope=col>transcript_id</th><th scope=col>gene_id</th><th scope=col>length</th><th scope=col>effective_length</th><th scope=col>expected_count</th><th scope=col>TPM</th><th scope=col>FPKM</th><th scope=col>IsoPct</th></tr>\n",
       "\t<tr><th></th><th scope=col>&lt;chr&gt;</th><th scope=col>&lt;chr&gt;</th><th scope=col>&lt;int&gt;</th><th scope=col>&lt;dbl&gt;</th><th scope=col>&lt;dbl&gt;</th><th scope=col>&lt;dbl&gt;</th><th scope=col>&lt;dbl&gt;</th><th scope=col>&lt;dbl&gt;</th></tr>\n",
       "</thead>\n",
       "<tbody>\n",
       "\t<tr><th scope=row>1</th><td>ETS1-1_rRNA</td><td>ETS1-1</td><td> 700</td><td> 462.14</td><td>47.0</td><td>92.85</td><td>186.60</td><td>100</td></tr>\n",
       "\t<tr><th scope=row>2</th><td>ETS1-2_rRNA</td><td>ETS1-2</td><td> 700</td><td> 462.14</td><td>47.0</td><td>92.85</td><td>186.60</td><td>100</td></tr>\n",
       "\t<tr><th scope=row>3</th><td>ETS2-1_rRNA</td><td>ETS2-1</td><td> 211</td><td>   7.08</td><td> 0.5</td><td>64.45</td><td>129.52</td><td>100</td></tr>\n",
       "\t<tr><th scope=row>4</th><td>ETS2-2_rRNA</td><td>ETS2-2</td><td> 211</td><td>   7.08</td><td> 0.5</td><td>64.45</td><td>129.52</td><td>100</td></tr>\n",
       "\t<tr><th scope=row>5</th><td>HRA1_ncRNA </td><td>HRA1  </td><td> 564</td><td> 326.18</td><td> 2.0</td><td> 5.60</td><td> 11.25</td><td>100</td></tr>\n",
       "\t<tr><th scope=row>6</th><td>ICR1_ncRNA </td><td>ICR1  </td><td>3199</td><td>2961.13</td><td>16.0</td><td> 4.93</td><td>  9.91</td><td>100</td></tr>\n",
       "</tbody>\n",
       "</table>\n"
      ],
      "text/latex": [
       "A data.frame: 6 × 8\n",
       "\\begin{tabular}{r|llllllll}\n",
       "  & transcript\\_id & gene\\_id & length & effective\\_length & expected\\_count & TPM & FPKM & IsoPct\\\\\n",
       "  & <chr> & <chr> & <int> & <dbl> & <dbl> & <dbl> & <dbl> & <dbl>\\\\\n",
       "\\hline\n",
       "\t1 & ETS1-1\\_rRNA & ETS1-1 &  700 &  462.14 & 47.0 & 92.85 & 186.60 & 100\\\\\n",
       "\t2 & ETS1-2\\_rRNA & ETS1-2 &  700 &  462.14 & 47.0 & 92.85 & 186.60 & 100\\\\\n",
       "\t3 & ETS2-1\\_rRNA & ETS2-1 &  211 &    7.08 &  0.5 & 64.45 & 129.52 & 100\\\\\n",
       "\t4 & ETS2-2\\_rRNA & ETS2-2 &  211 &    7.08 &  0.5 & 64.45 & 129.52 & 100\\\\\n",
       "\t5 & HRA1\\_ncRNA  & HRA1   &  564 &  326.18 &  2.0 &  5.60 &  11.25 & 100\\\\\n",
       "\t6 & ICR1\\_ncRNA  & ICR1   & 3199 & 2961.13 & 16.0 &  4.93 &   9.91 & 100\\\\\n",
       "\\end{tabular}\n"
      ],
      "text/markdown": [
       "\n",
       "A data.frame: 6 × 8\n",
       "\n",
       "| <!--/--> | transcript_id &lt;chr&gt; | gene_id &lt;chr&gt; | length &lt;int&gt; | effective_length &lt;dbl&gt; | expected_count &lt;dbl&gt; | TPM &lt;dbl&gt; | FPKM &lt;dbl&gt; | IsoPct &lt;dbl&gt; |\n",
       "|---|---|---|---|---|---|---|---|---|\n",
       "| 1 | ETS1-1_rRNA | ETS1-1 |  700 |  462.14 | 47.0 | 92.85 | 186.60 | 100 |\n",
       "| 2 | ETS1-2_rRNA | ETS1-2 |  700 |  462.14 | 47.0 | 92.85 | 186.60 | 100 |\n",
       "| 3 | ETS2-1_rRNA | ETS2-1 |  211 |    7.08 |  0.5 | 64.45 | 129.52 | 100 |\n",
       "| 4 | ETS2-2_rRNA | ETS2-2 |  211 |    7.08 |  0.5 | 64.45 | 129.52 | 100 |\n",
       "| 5 | HRA1_ncRNA  | HRA1   |  564 |  326.18 |  2.0 |  5.60 |  11.25 | 100 |\n",
       "| 6 | ICR1_ncRNA  | ICR1   | 3199 | 2961.13 | 16.0 |  4.93 |   9.91 | 100 |\n",
       "\n"
      ],
      "text/plain": [
       "  transcript_id gene_id length effective_length expected_count TPM   FPKM  \n",
       "1 ETS1-1_rRNA   ETS1-1   700    462.14          47.0           92.85 186.60\n",
       "2 ETS1-2_rRNA   ETS1-2   700    462.14          47.0           92.85 186.60\n",
       "3 ETS2-1_rRNA   ETS2-1   211      7.08           0.5           64.45 129.52\n",
       "4 ETS2-2_rRNA   ETS2-2   211      7.08           0.5           64.45 129.52\n",
       "5 HRA1_ncRNA    HRA1     564    326.18           2.0            5.60  11.25\n",
       "6 ICR1_ncRNA    ICR1    3199   2961.13          16.0            4.93   9.91\n",
       "  IsoPct\n",
       "1 100   \n",
       "2 100   \n",
       "3 100   \n",
       "4 100   \n",
       "5 100   \n",
       "6 100   "
      ]
     },
     "metadata": {},
     "output_type": "display_data"
    }
   ],
   "source": [
    "rsemout <- read.table(\"RSEMOut.isoforms.results\", header = 1) # Load the table\n",
    "head(rsemout) # Display the first 6 rows"
   ]
  },
  {
   "cell_type": "code",
   "execution_count": 3,
   "metadata": {
    "vscode": {
     "languageId": "r"
    }
   },
   "outputs": [
    {
     "data": {
      "text/html": [
       "<table class=\"dataframe\">\n",
       "<caption>A data.frame: 6 × 5</caption>\n",
       "<thead>\n",
       "\t<tr><th></th><th scope=col>Name</th><th scope=col>Length</th><th scope=col>EffectiveLength</th><th scope=col>TPM</th><th scope=col>NumReads</th></tr>\n",
       "\t<tr><th></th><th scope=col>&lt;chr&gt;</th><th scope=col>&lt;int&gt;</th><th scope=col>&lt;dbl&gt;</th><th scope=col>&lt;dbl&gt;</th><th scope=col>&lt;dbl&gt;</th></tr>\n",
       "</thead>\n",
       "<tbody>\n",
       "\t<tr><th scope=row>1</th><td>YDL248W_mRNA  </td><td>1152</td><td> 914.153</td><td>67.919553</td><td>107.958</td></tr>\n",
       "\t<tr><th scope=row>2</th><td>YDL247W-A_mRNA</td><td>  75</td><td>  75.000</td><td> 0.000000</td><td>  0.000</td></tr>\n",
       "\t<tr><th scope=row>3</th><td>YDL247W_mRNA  </td><td>1830</td><td>1592.153</td><td> 1.397396</td><td>  3.869</td></tr>\n",
       "\t<tr><th scope=row>4</th><td>YDL246C_mRNA  </td><td>1074</td><td> 836.153</td><td>12.380668</td><td> 18.000</td></tr>\n",
       "\t<tr><th scope=row>5</th><td>YDL245C_mRNA  </td><td>1704</td><td>1466.153</td><td> 0.196132</td><td>  0.500</td></tr>\n",
       "\t<tr><th scope=row>6</th><td>YDL244W_mRNA  </td><td>1023</td><td> 785.153</td><td> 8.472899</td><td> 11.567</td></tr>\n",
       "</tbody>\n",
       "</table>\n"
      ],
      "text/latex": [
       "A data.frame: 6 × 5\n",
       "\\begin{tabular}{r|lllll}\n",
       "  & Name & Length & EffectiveLength & TPM & NumReads\\\\\n",
       "  & <chr> & <int> & <dbl> & <dbl> & <dbl>\\\\\n",
       "\\hline\n",
       "\t1 & YDL248W\\_mRNA   & 1152 &  914.153 & 67.919553 & 107.958\\\\\n",
       "\t2 & YDL247W-A\\_mRNA &   75 &   75.000 &  0.000000 &   0.000\\\\\n",
       "\t3 & YDL247W\\_mRNA   & 1830 & 1592.153 &  1.397396 &   3.869\\\\\n",
       "\t4 & YDL246C\\_mRNA   & 1074 &  836.153 & 12.380668 &  18.000\\\\\n",
       "\t5 & YDL245C\\_mRNA   & 1704 & 1466.153 &  0.196132 &   0.500\\\\\n",
       "\t6 & YDL244W\\_mRNA   & 1023 &  785.153 &  8.472899 &  11.567\\\\\n",
       "\\end{tabular}\n"
      ],
      "text/markdown": [
       "\n",
       "A data.frame: 6 × 5\n",
       "\n",
       "| <!--/--> | Name &lt;chr&gt; | Length &lt;int&gt; | EffectiveLength &lt;dbl&gt; | TPM &lt;dbl&gt; | NumReads &lt;dbl&gt; |\n",
       "|---|---|---|---|---|---|\n",
       "| 1 | YDL248W_mRNA   | 1152 |  914.153 | 67.919553 | 107.958 |\n",
       "| 2 | YDL247W-A_mRNA |   75 |   75.000 |  0.000000 |   0.000 |\n",
       "| 3 | YDL247W_mRNA   | 1830 | 1592.153 |  1.397396 |   3.869 |\n",
       "| 4 | YDL246C_mRNA   | 1074 |  836.153 | 12.380668 |  18.000 |\n",
       "| 5 | YDL245C_mRNA   | 1704 | 1466.153 |  0.196132 |   0.500 |\n",
       "| 6 | YDL244W_mRNA   | 1023 |  785.153 |  8.472899 |  11.567 |\n",
       "\n"
      ],
      "text/plain": [
       "  Name           Length EffectiveLength TPM       NumReads\n",
       "1 YDL248W_mRNA   1152    914.153        67.919553 107.958 \n",
       "2 YDL247W-A_mRNA   75     75.000         0.000000   0.000 \n",
       "3 YDL247W_mRNA   1830   1592.153         1.397396   3.869 \n",
       "4 YDL246C_mRNA   1074    836.153        12.380668  18.000 \n",
       "5 YDL245C_mRNA   1704   1466.153         0.196132   0.500 \n",
       "6 YDL244W_mRNA   1023    785.153         8.472899  11.567 "
      ]
     },
     "metadata": {},
     "output_type": "display_data"
    }
   ],
   "source": [
    "salmonout <- read.table(\"quant.sf\", header = 1)\n",
    "head(salmonout)"
   ]
  },
  {
   "cell_type": "markdown",
   "metadata": {},
   "source": [
    "In RSEM and Salmon, the read count metrics are `expected_count` and `NumReads`, respectively.\n",
    "\n",
    "We analyze the *sum*, *average*, and *standard deviation* of these metrics to understand the data distribution, which helps in evaluating normalization methods."
   ]
  },
  {
   "cell_type": "code",
   "execution_count": 4,
   "metadata": {
    "vscode": {
     "languageId": "r"
    }
   },
   "outputs": [
    {
     "data": {
      "text/html": [
       "<table class=\"dataframe\">\n",
       "<caption>A data.frame: 1 × 3</caption>\n",
       "<thead>\n",
       "\t<tr><th scope=col>total_sum</th><th scope=col>average</th><th scope=col>std</th></tr>\n",
       "\t<tr><th scope=col>&lt;dbl&gt;</th><th scope=col>&lt;dbl&gt;</th><th scope=col>&lt;dbl&gt;</th></tr>\n",
       "</thead>\n",
       "<tbody>\n",
       "\t<tr><td>545041</td><td>76.47551</td><td>249.2444</td></tr>\n",
       "</tbody>\n",
       "</table>\n"
      ],
      "text/latex": [
       "A data.frame: 1 × 3\n",
       "\\begin{tabular}{lll}\n",
       " total\\_sum & average & std\\\\\n",
       " <dbl> & <dbl> & <dbl>\\\\\n",
       "\\hline\n",
       "\t 545041 & 76.47551 & 249.2444\\\\\n",
       "\\end{tabular}\n"
      ],
      "text/markdown": [
       "\n",
       "A data.frame: 1 × 3\n",
       "\n",
       "| total_sum &lt;dbl&gt; | average &lt;dbl&gt; | std &lt;dbl&gt; |\n",
       "|---|---|---|\n",
       "| 545041 | 76.47551 | 249.2444 |\n",
       "\n"
      ],
      "text/plain": [
       "  total_sum average  std     \n",
       "1 545041    76.47551 249.2444"
      ]
     },
     "metadata": {},
     "output_type": "display_data"
    },
    {
     "data": {
      "text/html": [
       "<table class=\"dataframe\">\n",
       "<caption>A data.frame: 1 × 3</caption>\n",
       "<thead>\n",
       "\t<tr><th scope=col>total_sum</th><th scope=col>average</th><th scope=col>std</th></tr>\n",
       "\t<tr><th scope=col>&lt;dbl&gt;</th><th scope=col>&lt;dbl&gt;</th><th scope=col>&lt;dbl&gt;</th></tr>\n",
       "</thead>\n",
       "<tbody>\n",
       "\t<tr><td>669927</td><td>97.89961</td><td>305.2898</td></tr>\n",
       "</tbody>\n",
       "</table>\n"
      ],
      "text/latex": [
       "A data.frame: 1 × 3\n",
       "\\begin{tabular}{lll}\n",
       " total\\_sum & average & std\\\\\n",
       " <dbl> & <dbl> & <dbl>\\\\\n",
       "\\hline\n",
       "\t 669927 & 97.89961 & 305.2898\\\\\n",
       "\\end{tabular}\n"
      ],
      "text/markdown": [
       "\n",
       "A data.frame: 1 × 3\n",
       "\n",
       "| total_sum &lt;dbl&gt; | average &lt;dbl&gt; | std &lt;dbl&gt; |\n",
       "|---|---|---|\n",
       "| 669927 | 97.89961 | 305.2898 |\n",
       "\n"
      ],
      "text/plain": [
       "  total_sum average  std     \n",
       "1 669927    97.89961 305.2898"
      ]
     },
     "metadata": {},
     "output_type": "display_data"
    }
   ],
   "source": [
    "rsemout %>%\n",
    "  summarise(\n",
    "    total_sum = sum(expected_count, na.rm = TRUE),\n",
    "    average = mean(expected_count, na.rm = TRUE),\n",
    "    std = sd(expected_count, na.rm = TRUE)\n",
    "  )\n",
    "\n",
    "salmonout %>%\n",
    "  summarise(\n",
    "    total_sum = sum(NumReads, na.rm = TRUE),\n",
    "    average = mean(NumReads, na.rm = TRUE),\n",
    "    std = sd(NumReads, na.rm = TRUE)\n",
    "  )"
   ]
  },
  {
   "cell_type": "markdown",
   "metadata": {},
   "source": [
    "The key metrics: **Effective Length**, **Normalized Read Count**, **TPM**, and **FPKM**.\n",
    "\n",
    "Among them, `Effective Length` and `TPM` are already provided in the original datasets, but we need to process **Normalized Read Count** and **FPKM** for comparison.\n",
    "\n",
    "**1.Normalized Read Count**\n",
    "\n",
    "Normalized Read Count is calculated as:\n",
    "$$ \\text{Normalized Read Count} =\\frac{\\text{Read Count}}{sum\\text{(Read Count)}} \\times i$$\n",
    "where `i` is the normalization factor. Since the total read count is in the order of Million, we use 1,000,000 as the factor. This metric is named **ReadsPerMil**.\n",
    "\n",
    "**2.FPKM**\n",
    "\n",
    "In RSEM, `FPKM` is already provided, but we need to compute `FPKM` for Salmon.\n",
    "\n",
    "**FPKM (Fragments Per Kilobase of transcript per Million mapped reads)** is calculated as:\n",
    "$$\n",
    "FPKM=\\frac{\\text { expected count } \\times 10^9}{\\text { effective length } \\times \\text { total mapped reads }} = \\frac{\\text{Normalized Read Count}}{\\text { EffectiveLength }}\\times 1000\n",
    "$$\n",
    "Since we already normalized read counts with a factor of 1,000,000 , we multiply by 1000 to match the factor in the FPKM formula.\n",
    "\n",
    "Data Processing:"
   ]
  },
  {
   "cell_type": "code",
   "execution_count": 5,
   "metadata": {
    "vscode": {
     "languageId": "r"
    }
   },
   "outputs": [
    {
     "data": {
      "text/html": [
       "<table class=\"dataframe\">\n",
       "<caption>A data.frame: 6 × 5</caption>\n",
       "<thead>\n",
       "\t<tr><th></th><th scope=col>Name</th><th scope=col>ReadsPerMil_Salmon</th><th scope=col>FPKM_Salmon</th><th scope=col>TPM_Salmon</th><th scope=col>EffectiveLength_Salmon</th></tr>\n",
       "\t<tr><th></th><th scope=col>&lt;chr&gt;</th><th scope=col>&lt;dbl&gt;</th><th scope=col>&lt;dbl&gt;</th><th scope=col>&lt;dbl&gt;</th><th scope=col>&lt;dbl&gt;</th></tr>\n",
       "</thead>\n",
       "<tbody>\n",
       "\t<tr><th scope=row>1</th><td>YDL248W_mRNA  </td><td>161.148900</td><td>176.2821979</td><td>67.919553</td><td> 914.153</td></tr>\n",
       "\t<tr><th scope=row>2</th><td>YDL247W-A_mRNA</td><td>  0.000000</td><td>  0.0000000</td><td> 0.000000</td><td>  75.000</td></tr>\n",
       "\t<tr><th scope=row>3</th><td>YDL247W_mRNA  </td><td>  5.775256</td><td>  3.6273248</td><td> 1.397396</td><td>1592.153</td></tr>\n",
       "\t<tr><th scope=row>4</th><td>YDL246C_mRNA  </td><td> 26.868599</td><td> 32.1335915</td><td>12.380668</td><td> 836.153</td></tr>\n",
       "\t<tr><th scope=row>5</th><td>YDL245C_mRNA  </td><td>  0.746350</td><td>  0.5090533</td><td> 0.196132</td><td>1466.153</td></tr>\n",
       "\t<tr><th scope=row>6</th><td>YDL244W_mRNA  </td><td> 17.266060</td><td> 21.9906951</td><td> 8.472899</td><td> 785.153</td></tr>\n",
       "</tbody>\n",
       "</table>\n"
      ],
      "text/latex": [
       "A data.frame: 6 × 5\n",
       "\\begin{tabular}{r|lllll}\n",
       "  & Name & ReadsPerMil\\_Salmon & FPKM\\_Salmon & TPM\\_Salmon & EffectiveLength\\_Salmon\\\\\n",
       "  & <chr> & <dbl> & <dbl> & <dbl> & <dbl>\\\\\n",
       "\\hline\n",
       "\t1 & YDL248W\\_mRNA   & 161.148900 & 176.2821979 & 67.919553 &  914.153\\\\\n",
       "\t2 & YDL247W-A\\_mRNA &   0.000000 &   0.0000000 &  0.000000 &   75.000\\\\\n",
       "\t3 & YDL247W\\_mRNA   &   5.775256 &   3.6273248 &  1.397396 & 1592.153\\\\\n",
       "\t4 & YDL246C\\_mRNA   &  26.868599 &  32.1335915 & 12.380668 &  836.153\\\\\n",
       "\t5 & YDL245C\\_mRNA   &   0.746350 &   0.5090533 &  0.196132 & 1466.153\\\\\n",
       "\t6 & YDL244W\\_mRNA   &  17.266060 &  21.9906951 &  8.472899 &  785.153\\\\\n",
       "\\end{tabular}\n"
      ],
      "text/markdown": [
       "\n",
       "A data.frame: 6 × 5\n",
       "\n",
       "| <!--/--> | Name &lt;chr&gt; | ReadsPerMil_Salmon &lt;dbl&gt; | FPKM_Salmon &lt;dbl&gt; | TPM_Salmon &lt;dbl&gt; | EffectiveLength_Salmon &lt;dbl&gt; |\n",
       "|---|---|---|---|---|---|\n",
       "| 1 | YDL248W_mRNA   | 161.148900 | 176.2821979 | 67.919553 |  914.153 |\n",
       "| 2 | YDL247W-A_mRNA |   0.000000 |   0.0000000 |  0.000000 |   75.000 |\n",
       "| 3 | YDL247W_mRNA   |   5.775256 |   3.6273248 |  1.397396 | 1592.153 |\n",
       "| 4 | YDL246C_mRNA   |  26.868599 |  32.1335915 | 12.380668 |  836.153 |\n",
       "| 5 | YDL245C_mRNA   |   0.746350 |   0.5090533 |  0.196132 | 1466.153 |\n",
       "| 6 | YDL244W_mRNA   |  17.266060 |  21.9906951 |  8.472899 |  785.153 |\n",
       "\n"
      ],
      "text/plain": [
       "  Name           ReadsPerMil_Salmon FPKM_Salmon TPM_Salmon\n",
       "1 YDL248W_mRNA   161.148900         176.2821979 67.919553 \n",
       "2 YDL247W-A_mRNA   0.000000           0.0000000  0.000000 \n",
       "3 YDL247W_mRNA     5.775256           3.6273248  1.397396 \n",
       "4 YDL246C_mRNA    26.868599          32.1335915 12.380668 \n",
       "5 YDL245C_mRNA     0.746350           0.5090533  0.196132 \n",
       "6 YDL244W_mRNA    17.266060          21.9906951  8.472899 \n",
       "  EffectiveLength_Salmon\n",
       "1  914.153              \n",
       "2   75.000              \n",
       "3 1592.153              \n",
       "4  836.153              \n",
       "5 1466.153              \n",
       "6  785.153              "
      ]
     },
     "metadata": {},
     "output_type": "display_data"
    },
    {
     "data": {
      "text/html": [
       "<table class=\"dataframe\">\n",
       "<caption>A data.frame: 6 × 5</caption>\n",
       "<thead>\n",
       "\t<tr><th></th><th scope=col>transcript_id</th><th scope=col>ReadsPerMil_RSEM</th><th scope=col>FPKM_RSEM</th><th scope=col>TPM_RSEM</th><th scope=col>EffectiveLength_RSEM</th></tr>\n",
       "\t<tr><th></th><th scope=col>&lt;chr&gt;</th><th scope=col>&lt;dbl&gt;</th><th scope=col>&lt;dbl&gt;</th><th scope=col>&lt;dbl&gt;</th><th scope=col>&lt;dbl&gt;</th></tr>\n",
       "</thead>\n",
       "<tbody>\n",
       "\t<tr><th scope=row>1</th><td>ETS1-1_rRNA</td><td>86.2320513</td><td>186.60</td><td>92.85</td><td> 462.14</td></tr>\n",
       "\t<tr><th scope=row>2</th><td>ETS1-2_rRNA</td><td>86.2320513</td><td>186.60</td><td>92.85</td><td> 462.14</td></tr>\n",
       "\t<tr><th scope=row>3</th><td>ETS2-1_rRNA</td><td> 0.9173622</td><td>129.52</td><td>64.45</td><td>   7.08</td></tr>\n",
       "\t<tr><th scope=row>4</th><td>ETS2-2_rRNA</td><td> 0.9173622</td><td>129.52</td><td>64.45</td><td>   7.08</td></tr>\n",
       "\t<tr><th scope=row>5</th><td>HRA1_ncRNA </td><td> 3.6694490</td><td> 11.25</td><td> 5.60</td><td> 326.18</td></tr>\n",
       "\t<tr><th scope=row>6</th><td>ICR1_ncRNA </td><td>29.3555919</td><td>  9.91</td><td> 4.93</td><td>2961.13</td></tr>\n",
       "</tbody>\n",
       "</table>\n"
      ],
      "text/latex": [
       "A data.frame: 6 × 5\n",
       "\\begin{tabular}{r|lllll}\n",
       "  & transcript\\_id & ReadsPerMil\\_RSEM & FPKM\\_RSEM & TPM\\_RSEM & EffectiveLength\\_RSEM\\\\\n",
       "  & <chr> & <dbl> & <dbl> & <dbl> & <dbl>\\\\\n",
       "\\hline\n",
       "\t1 & ETS1-1\\_rRNA & 86.2320513 & 186.60 & 92.85 &  462.14\\\\\n",
       "\t2 & ETS1-2\\_rRNA & 86.2320513 & 186.60 & 92.85 &  462.14\\\\\n",
       "\t3 & ETS2-1\\_rRNA &  0.9173622 & 129.52 & 64.45 &    7.08\\\\\n",
       "\t4 & ETS2-2\\_rRNA &  0.9173622 & 129.52 & 64.45 &    7.08\\\\\n",
       "\t5 & HRA1\\_ncRNA  &  3.6694490 &  11.25 &  5.60 &  326.18\\\\\n",
       "\t6 & ICR1\\_ncRNA  & 29.3555919 &   9.91 &  4.93 & 2961.13\\\\\n",
       "\\end{tabular}\n"
      ],
      "text/markdown": [
       "\n",
       "A data.frame: 6 × 5\n",
       "\n",
       "| <!--/--> | transcript_id &lt;chr&gt; | ReadsPerMil_RSEM &lt;dbl&gt; | FPKM_RSEM &lt;dbl&gt; | TPM_RSEM &lt;dbl&gt; | EffectiveLength_RSEM &lt;dbl&gt; |\n",
       "|---|---|---|---|---|---|\n",
       "| 1 | ETS1-1_rRNA | 86.2320513 | 186.60 | 92.85 |  462.14 |\n",
       "| 2 | ETS1-2_rRNA | 86.2320513 | 186.60 | 92.85 |  462.14 |\n",
       "| 3 | ETS2-1_rRNA |  0.9173622 | 129.52 | 64.45 |    7.08 |\n",
       "| 4 | ETS2-2_rRNA |  0.9173622 | 129.52 | 64.45 |    7.08 |\n",
       "| 5 | HRA1_ncRNA  |  3.6694490 |  11.25 |  5.60 |  326.18 |\n",
       "| 6 | ICR1_ncRNA  | 29.3555919 |   9.91 |  4.93 | 2961.13 |\n",
       "\n"
      ],
      "text/plain": [
       "  transcript_id ReadsPerMil_RSEM FPKM_RSEM TPM_RSEM EffectiveLength_RSEM\n",
       "1 ETS1-1_rRNA   86.2320513       186.60    92.85     462.14             \n",
       "2 ETS1-2_rRNA   86.2320513       186.60    92.85     462.14             \n",
       "3 ETS2-1_rRNA    0.9173622       129.52    64.45       7.08             \n",
       "4 ETS2-2_rRNA    0.9173622       129.52    64.45       7.08             \n",
       "5 HRA1_ncRNA     3.6694490        11.25     5.60     326.18             \n",
       "6 ICR1_ncRNA    29.3555919         9.91     4.93    2961.13             "
      ]
     },
     "metadata": {},
     "output_type": "display_data"
    }
   ],
   "source": [
    "# Data Processing\n",
    "Salmon <- salmonout %>%\n",
    "  mutate(\n",
    "    ReadsPerMil_Salmon = NumReads/(sum(NumReads)/1000000), # 计算Normalized Read Count，以10^6计，命名为ReadsPerMil\n",
    "    FPKM_Salmon = ReadsPerMil_Salmon / EffectiveLength * 1000, # 计算FPKM\n",
    "    TPM_Salmon = TPM,\n",
    "    EffectiveLength_Salmon = EffectiveLength\n",
    "  ) %>%\n",
    "  select(\n",
    "    -Length, -NumReads,\n",
    "    -EffectiveLength, -TPM\n",
    "  )\n",
    "head(Salmon)\n",
    "\n",
    "RSEM <- rsemout %>%\n",
    "  mutate(\n",
    "    ReadsPerMil_RSEM = expected_count/(sum(expected_count)/1000000), # 计算Normalized Read Count，以10^6计，命名为ReadsPerMil\n",
    "    FPKM_RSEM = FPKM,\n",
    "    TPM_RSEM = TPM,\n",
    "    EffectiveLength_RSEM = effective_length\n",
    "  ) %>%\n",
    "  select(\n",
    "    -gene_id, -length, -effective_length,\n",
    "    -expected_count, -IsoPct, -TPM, -FPKM\n",
    "  )\n",
    "head(RSEM)"
   ]
  },
  {
   "cell_type": "markdown",
   "metadata": {},
   "source": [
    "Distribution of `ReadsPerMil` and `FPKM`"
   ]
  },
  {
   "cell_type": "code",
   "execution_count": 6,
   "metadata": {
    "vscode": {
     "languageId": "r"
    }
   },
   "outputs": [
    {
     "data": {
      "text/html": [
       "<table class=\"dataframe\">\n",
       "<caption>A data.frame: 1 × 6</caption>\n",
       "<thead>\n",
       "\t<tr><th scope=col>ReadsPerMil_Salmon_total_sum</th><th scope=col>ReadsPerMil_Salmon_average</th><th scope=col>ReadsPerMil_Salmon_std</th><th scope=col>FPKM_Salmon_total_sum</th><th scope=col>FPKM_Salmon_average</th><th scope=col>FPKM_Salmon_std</th></tr>\n",
       "\t<tr><th scope=col>&lt;dbl&gt;</th><th scope=col>&lt;dbl&gt;</th><th scope=col>&lt;dbl&gt;</th><th scope=col>&lt;dbl&gt;</th><th scope=col>&lt;dbl&gt;</th><th scope=col>&lt;dbl&gt;</th></tr>\n",
       "</thead>\n",
       "<tbody>\n",
       "\t<tr><td>1e+06</td><td>146.1347</td><td>455.706</td><td>2595456</td><td>379.2863</td><td>1854.047</td></tr>\n",
       "</tbody>\n",
       "</table>\n"
      ],
      "text/latex": [
       "A data.frame: 1 × 6\n",
       "\\begin{tabular}{llllll}\n",
       " ReadsPerMil\\_Salmon\\_total\\_sum & ReadsPerMil\\_Salmon\\_average & ReadsPerMil\\_Salmon\\_std & FPKM\\_Salmon\\_total\\_sum & FPKM\\_Salmon\\_average & FPKM\\_Salmon\\_std\\\\\n",
       " <dbl> & <dbl> & <dbl> & <dbl> & <dbl> & <dbl>\\\\\n",
       "\\hline\n",
       "\t 1e+06 & 146.1347 & 455.706 & 2595456 & 379.2863 & 1854.047\\\\\n",
       "\\end{tabular}\n"
      ],
      "text/markdown": [
       "\n",
       "A data.frame: 1 × 6\n",
       "\n",
       "| ReadsPerMil_Salmon_total_sum &lt;dbl&gt; | ReadsPerMil_Salmon_average &lt;dbl&gt; | ReadsPerMil_Salmon_std &lt;dbl&gt; | FPKM_Salmon_total_sum &lt;dbl&gt; | FPKM_Salmon_average &lt;dbl&gt; | FPKM_Salmon_std &lt;dbl&gt; |\n",
       "|---|---|---|---|---|---|\n",
       "| 1e+06 | 146.1347 | 455.706 | 2595456 | 379.2863 | 1854.047 |\n",
       "\n"
      ],
      "text/plain": [
       "  ReadsPerMil_Salmon_total_sum ReadsPerMil_Salmon_average\n",
       "1 1e+06                        146.1347                  \n",
       "  ReadsPerMil_Salmon_std FPKM_Salmon_total_sum FPKM_Salmon_average\n",
       "1 455.706                2595456               379.2863           \n",
       "  FPKM_Salmon_std\n",
       "1 1854.047       "
      ]
     },
     "metadata": {},
     "output_type": "display_data"
    },
    {
     "data": {
      "text/html": [
       "<table class=\"dataframe\">\n",
       "<caption>A data.frame: 1 × 6</caption>\n",
       "<thead>\n",
       "\t<tr><th scope=col>ReadsPerMil_RSEM_total_sum</th><th scope=col>ReadsPerMil_RSEM_average</th><th scope=col>ReadsPerMil_RSEM_std</th><th scope=col>FPKM_RSEM_total_sum</th><th scope=col>FPKM_RSEM_average</th><th scope=col>FPKM_RSEM_std</th></tr>\n",
       "\t<tr><th scope=col>&lt;dbl&gt;</th><th scope=col>&lt;dbl&gt;</th><th scope=col>&lt;dbl&gt;</th><th scope=col>&lt;dbl&gt;</th><th scope=col>&lt;dbl&gt;</th><th scope=col>&lt;dbl&gt;</th></tr>\n",
       "</thead>\n",
       "<tbody>\n",
       "\t<tr><td>1e+06</td><td>140.3115</td><td>457.2947</td><td>2009736</td><td>281.989</td><td>1182.745</td></tr>\n",
       "</tbody>\n",
       "</table>\n"
      ],
      "text/latex": [
       "A data.frame: 1 × 6\n",
       "\\begin{tabular}{llllll}\n",
       " ReadsPerMil\\_RSEM\\_total\\_sum & ReadsPerMil\\_RSEM\\_average & ReadsPerMil\\_RSEM\\_std & FPKM\\_RSEM\\_total\\_sum & FPKM\\_RSEM\\_average & FPKM\\_RSEM\\_std\\\\\n",
       " <dbl> & <dbl> & <dbl> & <dbl> & <dbl> & <dbl>\\\\\n",
       "\\hline\n",
       "\t 1e+06 & 140.3115 & 457.2947 & 2009736 & 281.989 & 1182.745\\\\\n",
       "\\end{tabular}\n"
      ],
      "text/markdown": [
       "\n",
       "A data.frame: 1 × 6\n",
       "\n",
       "| ReadsPerMil_RSEM_total_sum &lt;dbl&gt; | ReadsPerMil_RSEM_average &lt;dbl&gt; | ReadsPerMil_RSEM_std &lt;dbl&gt; | FPKM_RSEM_total_sum &lt;dbl&gt; | FPKM_RSEM_average &lt;dbl&gt; | FPKM_RSEM_std &lt;dbl&gt; |\n",
       "|---|---|---|---|---|---|\n",
       "| 1e+06 | 140.3115 | 457.2947 | 2009736 | 281.989 | 1182.745 |\n",
       "\n"
      ],
      "text/plain": [
       "  ReadsPerMil_RSEM_total_sum ReadsPerMil_RSEM_average ReadsPerMil_RSEM_std\n",
       "1 1e+06                      140.3115                 457.2947            \n",
       "  FPKM_RSEM_total_sum FPKM_RSEM_average FPKM_RSEM_std\n",
       "1 2009736             281.989           1182.745     "
      ]
     },
     "metadata": {},
     "output_type": "display_data"
    }
   ],
   "source": [
    "Salmon %>%\n",
    "  summarise(\n",
    "    ReadsPerMil_Salmon_total_sum = sum(ReadsPerMil_Salmon, na.rm = TRUE),\n",
    "    ReadsPerMil_Salmon_average = mean(ReadsPerMil_Salmon, na.rm = TRUE),\n",
    "    ReadsPerMil_Salmon_std = sd(ReadsPerMil_Salmon, na.rm = TRUE),\n",
    "    FPKM_Salmon_total_sum = sum(FPKM_Salmon, na.rm = TRUE),\n",
    "    FPKM_Salmon_average = mean(FPKM_Salmon, na.rm = TRUE),\n",
    "    FPKM_Salmon_std = sd(FPKM_Salmon, na.rm = TRUE)\n",
    "  )\n",
    "\n",
    "RSEM %>%\n",
    "  summarise(\n",
    "    ReadsPerMil_RSEM_total_sum = sum(ReadsPerMil_RSEM, na.rm = TRUE),\n",
    "    ReadsPerMil_RSEM_average = mean(ReadsPerMil_RSEM, na.rm = TRUE),\n",
    "    ReadsPerMil_RSEM_std = sd(ReadsPerMil_RSEM, na.rm = TRUE),\n",
    "    FPKM_RSEM_total_sum = sum(FPKM_RSEM, na.rm = TRUE),\n",
    "    FPKM_RSEM_average = mean(FPKM_RSEM, na.rm = TRUE),\n",
    "    FPKM_RSEM_std = sd(FPKM_RSEM, na.rm = TRUE)\n",
    "  )"
   ]
  },
  {
   "cell_type": "markdown",
   "metadata": {},
   "source": [
    "Merge Salmon and RSEM data using the *transcript ID* (`Name` in Salmon and `transcript_id` in RSEM)."
   ]
  },
  {
   "cell_type": "code",
   "execution_count": 7,
   "metadata": {
    "vscode": {
     "languageId": "r"
    }
   },
   "outputs": [
    {
     "data": {
      "text/html": [
       "<table class=\"dataframe\">\n",
       "<caption>A data.frame: 6 × 9</caption>\n",
       "<thead>\n",
       "\t<tr><th></th><th scope=col>Name</th><th scope=col>ReadsPerMil_Salmon</th><th scope=col>FPKM_Salmon</th><th scope=col>TPM_Salmon</th><th scope=col>EffectiveLength_Salmon</th><th scope=col>ReadsPerMil_RSEM</th><th scope=col>FPKM_RSEM</th><th scope=col>TPM_RSEM</th><th scope=col>EffectiveLength_RSEM</th></tr>\n",
       "\t<tr><th></th><th scope=col>&lt;chr&gt;</th><th scope=col>&lt;dbl&gt;</th><th scope=col>&lt;dbl&gt;</th><th scope=col>&lt;dbl&gt;</th><th scope=col>&lt;dbl&gt;</th><th scope=col>&lt;dbl&gt;</th><th scope=col>&lt;dbl&gt;</th><th scope=col>&lt;dbl&gt;</th><th scope=col>&lt;dbl&gt;</th></tr>\n",
       "</thead>\n",
       "<tbody>\n",
       "\t<tr><th scope=row>1</th><td>ETS1-1_rRNA</td><td>191.0656</td><td>413.36147</td><td>159.262780</td><td> 462.224</td><td>86.2320513</td><td>186.60</td><td>92.85</td><td> 462.14</td></tr>\n",
       "\t<tr><th scope=row>2</th><td>ETS2-1_rRNA</td><td>  0.0000</td><td>  0.00000</td><td>  0.000000</td><td>  23.544</td><td> 0.9173622</td><td>129.52</td><td>64.45</td><td>   7.08</td></tr>\n",
       "\t<tr><th scope=row>3</th><td>HRA1_ncRNA </td><td>  0.0000</td><td>  0.00000</td><td>  0.000000</td><td> 326.399</td><td> 3.6694490</td><td> 11.25</td><td> 5.60</td><td> 326.18</td></tr>\n",
       "\t<tr><th scope=row>4</th><td>ICR1_ncRNA </td><td> 17.9124</td><td>  6.04913</td><td>  2.330653</td><td>2961.153</td><td>29.3555919</td><td>  9.91</td><td> 4.93</td><td>2961.13</td></tr>\n",
       "\t<tr><th scope=row>5</th><td>IRT1_ncRNA </td><td> 82.0985</td><td> 65.61827</td><td> 25.281891</td><td>1251.153</td><td>97.2403982</td><td> 77.72</td><td>38.67</td><td>1251.13</td></tr>\n",
       "\t<tr><th scope=row>6</th><td>ITS1-1_rRNA</td><td>  5.9708</td><td> 47.46528</td><td> 18.287793</td><td> 125.793</td><td> 6.4215357</td><td> 51.87</td><td>25.81</td><td> 123.81</td></tr>\n",
       "</tbody>\n",
       "</table>\n"
      ],
      "text/latex": [
       "A data.frame: 6 × 9\n",
       "\\begin{tabular}{r|lllllllll}\n",
       "  & Name & ReadsPerMil\\_Salmon & FPKM\\_Salmon & TPM\\_Salmon & EffectiveLength\\_Salmon & ReadsPerMil\\_RSEM & FPKM\\_RSEM & TPM\\_RSEM & EffectiveLength\\_RSEM\\\\\n",
       "  & <chr> & <dbl> & <dbl> & <dbl> & <dbl> & <dbl> & <dbl> & <dbl> & <dbl>\\\\\n",
       "\\hline\n",
       "\t1 & ETS1-1\\_rRNA & 191.0656 & 413.36147 & 159.262780 &  462.224 & 86.2320513 & 186.60 & 92.85 &  462.14\\\\\n",
       "\t2 & ETS2-1\\_rRNA &   0.0000 &   0.00000 &   0.000000 &   23.544 &  0.9173622 & 129.52 & 64.45 &    7.08\\\\\n",
       "\t3 & HRA1\\_ncRNA  &   0.0000 &   0.00000 &   0.000000 &  326.399 &  3.6694490 &  11.25 &  5.60 &  326.18\\\\\n",
       "\t4 & ICR1\\_ncRNA  &  17.9124 &   6.04913 &   2.330653 & 2961.153 & 29.3555919 &   9.91 &  4.93 & 2961.13\\\\\n",
       "\t5 & IRT1\\_ncRNA  &  82.0985 &  65.61827 &  25.281891 & 1251.153 & 97.2403982 &  77.72 & 38.67 & 1251.13\\\\\n",
       "\t6 & ITS1-1\\_rRNA &   5.9708 &  47.46528 &  18.287793 &  125.793 &  6.4215357 &  51.87 & 25.81 &  123.81\\\\\n",
       "\\end{tabular}\n"
      ],
      "text/markdown": [
       "\n",
       "A data.frame: 6 × 9\n",
       "\n",
       "| <!--/--> | Name &lt;chr&gt; | ReadsPerMil_Salmon &lt;dbl&gt; | FPKM_Salmon &lt;dbl&gt; | TPM_Salmon &lt;dbl&gt; | EffectiveLength_Salmon &lt;dbl&gt; | ReadsPerMil_RSEM &lt;dbl&gt; | FPKM_RSEM &lt;dbl&gt; | TPM_RSEM &lt;dbl&gt; | EffectiveLength_RSEM &lt;dbl&gt; |\n",
       "|---|---|---|---|---|---|---|---|---|---|\n",
       "| 1 | ETS1-1_rRNA | 191.0656 | 413.36147 | 159.262780 |  462.224 | 86.2320513 | 186.60 | 92.85 |  462.14 |\n",
       "| 2 | ETS2-1_rRNA |   0.0000 |   0.00000 |   0.000000 |   23.544 |  0.9173622 | 129.52 | 64.45 |    7.08 |\n",
       "| 3 | HRA1_ncRNA  |   0.0000 |   0.00000 |   0.000000 |  326.399 |  3.6694490 |  11.25 |  5.60 |  326.18 |\n",
       "| 4 | ICR1_ncRNA  |  17.9124 |   6.04913 |   2.330653 | 2961.153 | 29.3555919 |   9.91 |  4.93 | 2961.13 |\n",
       "| 5 | IRT1_ncRNA  |  82.0985 |  65.61827 |  25.281891 | 1251.153 | 97.2403982 |  77.72 | 38.67 | 1251.13 |\n",
       "| 6 | ITS1-1_rRNA |   5.9708 |  47.46528 |  18.287793 |  125.793 |  6.4215357 |  51.87 | 25.81 |  123.81 |\n",
       "\n"
      ],
      "text/plain": [
       "  Name        ReadsPerMil_Salmon FPKM_Salmon TPM_Salmon EffectiveLength_Salmon\n",
       "1 ETS1-1_rRNA 191.0656           413.36147   159.262780  462.224              \n",
       "2 ETS2-1_rRNA   0.0000             0.00000     0.000000   23.544              \n",
       "3 HRA1_ncRNA    0.0000             0.00000     0.000000  326.399              \n",
       "4 ICR1_ncRNA   17.9124             6.04913     2.330653 2961.153              \n",
       "5 IRT1_ncRNA   82.0985            65.61827    25.281891 1251.153              \n",
       "6 ITS1-1_rRNA   5.9708            47.46528    18.287793  125.793              \n",
       "  ReadsPerMil_RSEM FPKM_RSEM TPM_RSEM EffectiveLength_RSEM\n",
       "1 86.2320513       186.60    92.85     462.14             \n",
       "2  0.9173622       129.52    64.45       7.08             \n",
       "3  3.6694490        11.25     5.60     326.18             \n",
       "4 29.3555919         9.91     4.93    2961.13             \n",
       "5 97.2403982        77.72    38.67    1251.13             \n",
       "6  6.4215357        51.87    25.81     123.81             "
      ]
     },
     "metadata": {},
     "output_type": "display_data"
    }
   ],
   "source": [
    "dat <- Salmon %>%\n",
    "  merge(\n",
    "    RSEM, by.x = \"Name\", by.y = \"transcript_id\"\n",
    "  )\n",
    "head(dat)"
   ]
  },
  {
   "cell_type": "markdown",
   "metadata": {},
   "source": [
    "## 2 Compute Pearson Correlation Matrix\n",
    "\n",
    "By computing the Pearson correlation matrix, we can observe the linear correlation between the metrics obtained from the Salmon and RSEM methods."
   ]
  },
  {
   "cell_type": "code",
   "execution_count": 8,
   "metadata": {
    "vscode": {
     "languageId": "r"
    }
   },
   "outputs": [
    {
     "data": {
      "text/html": [
       "<table class=\"dataframe\">\n",
       "<caption>A data.frame: 6 × 3</caption>\n",
       "<thead>\n",
       "\t<tr><th></th><th scope=col>Var1</th><th scope=col>Var2</th><th scope=col>value</th></tr>\n",
       "\t<tr><th></th><th scope=col>&lt;fct&gt;</th><th scope=col>&lt;fct&gt;</th><th scope=col>&lt;dbl&gt;</th></tr>\n",
       "</thead>\n",
       "<tbody>\n",
       "\t<tr><th scope=row>1</th><td>ReadsPerMil_Salmon</td><td>ReadsPerMil_Salmon</td><td>1.0000000</td></tr>\n",
       "\t<tr><th scope=row>9</th><td>ReadsPerMil_Salmon</td><td>FPKM_Salmon       </td><td>0.3911869</td></tr>\n",
       "\t<tr><th scope=row>10</th><td>FPKM_Salmon       </td><td>FPKM_Salmon       </td><td>1.0000000</td></tr>\n",
       "\t<tr><th scope=row>17</th><td>ReadsPerMil_Salmon</td><td>TPM_Salmon        </td><td>0.3911827</td></tr>\n",
       "\t<tr><th scope=row>18</th><td>FPKM_Salmon       </td><td>TPM_Salmon        </td><td>1.0000000</td></tr>\n",
       "\t<tr><th scope=row>19</th><td>TPM_Salmon        </td><td>TPM_Salmon        </td><td>1.0000000</td></tr>\n",
       "</tbody>\n",
       "</table>\n"
      ],
      "text/latex": [
       "A data.frame: 6 × 3\n",
       "\\begin{tabular}{r|lll}\n",
       "  & Var1 & Var2 & value\\\\\n",
       "  & <fct> & <fct> & <dbl>\\\\\n",
       "\\hline\n",
       "\t1 & ReadsPerMil\\_Salmon & ReadsPerMil\\_Salmon & 1.0000000\\\\\n",
       "\t9 & ReadsPerMil\\_Salmon & FPKM\\_Salmon        & 0.3911869\\\\\n",
       "\t10 & FPKM\\_Salmon        & FPKM\\_Salmon        & 1.0000000\\\\\n",
       "\t17 & ReadsPerMil\\_Salmon & TPM\\_Salmon         & 0.3911827\\\\\n",
       "\t18 & FPKM\\_Salmon        & TPM\\_Salmon         & 1.0000000\\\\\n",
       "\t19 & TPM\\_Salmon         & TPM\\_Salmon         & 1.0000000\\\\\n",
       "\\end{tabular}\n"
      ],
      "text/markdown": [
       "\n",
       "A data.frame: 6 × 3\n",
       "\n",
       "| <!--/--> | Var1 &lt;fct&gt; | Var2 &lt;fct&gt; | value &lt;dbl&gt; |\n",
       "|---|---|---|---|\n",
       "| 1 | ReadsPerMil_Salmon | ReadsPerMil_Salmon | 1.0000000 |\n",
       "| 9 | ReadsPerMil_Salmon | FPKM_Salmon        | 0.3911869 |\n",
       "| 10 | FPKM_Salmon        | FPKM_Salmon        | 1.0000000 |\n",
       "| 17 | ReadsPerMil_Salmon | TPM_Salmon         | 0.3911827 |\n",
       "| 18 | FPKM_Salmon        | TPM_Salmon         | 1.0000000 |\n",
       "| 19 | TPM_Salmon         | TPM_Salmon         | 1.0000000 |\n",
       "\n"
      ],
      "text/plain": [
       "   Var1               Var2               value    \n",
       "1  ReadsPerMil_Salmon ReadsPerMil_Salmon 1.0000000\n",
       "9  ReadsPerMil_Salmon FPKM_Salmon        0.3911869\n",
       "10 FPKM_Salmon        FPKM_Salmon        1.0000000\n",
       "17 ReadsPerMil_Salmon TPM_Salmon         0.3911827\n",
       "18 FPKM_Salmon        TPM_Salmon         1.0000000\n",
       "19 TPM_Salmon         TPM_Salmon         1.0000000"
      ]
     },
     "metadata": {},
     "output_type": "display_data"
    }
   ],
   "source": [
    "library(reshape2)\n",
    "\n",
    "get_upper_tri <- function(cormat) {\n",
    "  cormat[lower.tri(cormat)] <- NA\n",
    "  return(cormat)\n",
    "}\n",
    "\n",
    "cormat <- dat %>%\n",
    "  select(-Name) %>%\n",
    "  cor() %>% # Compute Pearson correlation coefficients between variables, outputting a correlation matrix.\n",
    "  get_upper_tri() %>% # Retain the upper triangular part of the correlation matrix, hiding redundant symmetric information.\n",
    "  melt(na.rm = TRUE) # Convert the matrix into a long-format dataframe (one-dimensional table) for heatmap visualization.\n",
    "\n",
    "head(cormat)\n"
   ]
  },
  {
   "cell_type": "markdown",
   "metadata": {},
   "source": [
    "Plot **Heatmap**"
   ]
  },
  {
   "cell_type": "code",
   "execution_count": 9,
   "metadata": {
    "vscode": {
     "languageId": "r"
    }
   },
   "outputs": [
    {
     "name": "stderr",
     "output_type": "stream",
     "text": [
      "Warning message:\n",
      "\"\u001b[1m\u001b[22mA numeric `legend.position` argument in `theme()` was deprecated in ggplot2\n",
      "3.5.0.\n",
      "\u001b[36mℹ\u001b[39m Please use the `legend.position.inside` argument of `theme()` instead.\"\n"
     ]
    },
    {
     "data": {
      "image/png": "[encoded data removed]",
      "text/plain": [
       "plot without title"
      ]
     },
     "metadata": {
      "image/png": {
       "height": 420,
       "width": 420
      }
     },
     "output_type": "display_data"
    }
   ],
   "source": [
    "# Plot heatmap\n",
    "\n",
    "ggheatmap <- ggplot(cormat, aes(Var2, Var1, fill=value)) +\n",
    "  geom_tile(color = \"white\") +  # Draw heatmap cells\n",
    "  scale_fill_gradient2(\n",
    "    low = \"blue\", high = \"red\", mid = \"white\",\n",
    "    midpoint = 0, limit = c(-1, 1), space = \"Lab\",\n",
    "    name = \"Pearson\\nCorrelation\"\n",
    "  ) +  # Define color gradient (from negative correlation in blue to positive correlation in red)\n",
    "  theme_minimal() +\n",
    "  theme(axis.text.x = element_text(angle = 45, vjust = 1,\n",
    "                                   size = 12, hjust = 1)) +\n",
    "  coord_fixed() +\n",
    "  geom_text(\n",
    "    aes(Var2, Var1, label = round(value, 2)),\n",
    "    color = \"black\",\n",
    "    size = 3\n",
    "  ) +  # Add correlation coefficient labels within the heatmap.\n",
    "  theme(\n",
    "    axis.title.x = element_blank(),\n",
    "    axis.title.y = element_blank(),\n",
    "    panel.grid.major = element_blank(),\n",
    "    panel.border = element_blank(),\n",
    "    panel.background = element_blank(),\n",
    "    axis.ticks = element_blank(),\n",
    "    legend.justification = c(1, 0),\n",
    "    legend.position = c(0.6, 0.7),\n",
    "    legend.direction = \"horizontal\"\n",
    "  ) +\n",
    "  guides(fill = guide_colorbar(barwidth = 7, barheight = 1,\n",
    "                               title.position = \"top\", title.hjust = 0.5))\n",
    "\n",
    "print(ggheatmap)\n"
   ]
  },
  {
   "cell_type": "markdown",
   "metadata": {},
   "source": [
    "**Observations from the Heatmap:**\n",
    "\n",
    "1. `Effective Length` from RSEM and Salmon are perfectly correlated.\n",
    "2. However, `Effective Length` has almost no correlation with the other three metrics from both methods.\n",
    "3. `ReadsPerMil` (normalized read count) from RSEM and Salmon are nearly perfectly correlated.\n",
    "4. `ReadsPerMil` has low correlation with TPM and FPKM from both methods.\n",
    "5. TPM and FPKM from RSEM and Salmon are highly correlated (Pearson correlation coefficient = 0.81).\n",
    "\n",
    "**Additional Observations:**\n",
    "\n",
    "1. `FPKM` and `TPM` within RSEM are perfectly correlated.\n",
    "2. `FPKM` and `TPM` within Salmon are also perfectly correlated.\n",
    "\n",
    "Moreover, almost all correlation coefficients are positive."
   ]
  },
  {
   "cell_type": "markdown",
   "metadata": {},
   "source": [
    "## 3 Scatter Plots Between Different Metrics\n",
    "\n",
    "We generate scatter plots for different metrics to observe the correlation and quantitative differences between them."
   ]
  },
  {
   "cell_type": "code",
   "execution_count": 10,
   "metadata": {
    "vscode": {
     "languageId": "r"
    }
   },
   "outputs": [
    {
     "data": {
      "image/png": "[encoded data removed]",
      "text/plain": [
       "plot without title"
      ]
     },
     "metadata": {
      "image/png": {
       "height": 420,
       "width": 420
      }
     },
     "output_type": "display_data"
    }
   ],
   "source": [
    "corr1 <- cormat[which(cormat$Var2 == \"TPM_RSEM\" & cormat$Var1 == \"TPM_Salmon\"),\n",
    "                \"value\"]\n",
    "\n",
    "dat %>%\n",
    "  ggplot(aes(x = TPM_RSEM, y = TPM_Salmon)) + \n",
    "  geom_point() +\n",
    "  annotate(geom = \"text\", x = 7500, y = 20000,\n",
    "           label = paste(\"corr = \", corr1), color = \"red\")+\n",
    "  ggtitle(\"TPM - Correlation between Salmon and RSEM\")"
   ]
  },
  {
   "cell_type": "code",
   "execution_count": 11,
   "metadata": {
    "vscode": {
     "languageId": "r"
    }
   },
   "outputs": [
    {
     "data": {
      "image/png": "[encoded data removed]",
      "text/plain": [
       "plot without title"
      ]
     },
     "metadata": {
      "image/png": {
       "height": 420,
       "width": 420
      }
     },
     "output_type": "display_data"
    }
   ],
   "source": [
    "corr2 <- cormat[which(cormat$Var2 == \"EffectiveLength_RSEM\" &\n",
    "                        cormat$Var1 == \"EffectiveLength_Salmon\"),\n",
    "                \"value\"]\n",
    "\n",
    "dat %>%\n",
    "  ggplot(aes(x = EffectiveLength_RSEM, y = EffectiveLength_Salmon)) +\n",
    "  geom_point() +\n",
    "  annotate(geom = \"text\", x = 7500, y = 20000,\n",
    "           label = paste(\"corr = \", corr2), color = \"red\") +\n",
    "  ggtitle(\"Effective Length - Correlation between Salmon and RSEM\")"
   ]
  },
  {
   "cell_type": "code",
   "execution_count": 12,
   "metadata": {
    "vscode": {
     "languageId": "r"
    }
   },
   "outputs": [
    {
     "data": {
      "image/png": "[encoded data removed]",
      "text/plain": [
       "plot without title"
      ]
     },
     "metadata": {
      "image/png": {
       "height": 420,
       "width": 420
      }
     },
     "output_type": "display_data"
    }
   ],
   "source": [
    "corr3 <- cormat[which(cormat$Var2 == \"ReadsPerMil_RSEM\" &\n",
    "                        cormat$Var1 == \"ReadsPerMil_Salmon\"),\n",
    "                \"value\"]\n",
    "\n",
    "dat %>%\n",
    "  ggplot(aes(x = ReadsPerMil_RSEM, y = ReadsPerMil_Salmon)) +\n",
    "  geom_point() +\n",
    "  annotate(geom = \"text\", x = 7500, y = 20000,\n",
    "           label = paste(\"corr = \", corr3), color = \"red\") +\n",
    "  ggtitle(\"ReadsPerMil - Correlation between Salmon and RSEM\")"
   ]
  }
 ],
 "metadata": {
  "kernelspec": {
   "display_name": "R",
   "language": "R",
   "name": "ir"
  },
  "language_info": {
   "codemirror_mode": "r",
   "file_extension": ".r",
   "mimetype": "text/x-r-source",
   "name": "R",
   "pygments_lexer": "r",
   "version": "4.4.1"
  }
 },
 "nbformat": 4,
 "nbformat_minor": 2
}
